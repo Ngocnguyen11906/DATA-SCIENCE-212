{
  "nbformat": 4,
  "nbformat_minor": 0,
  "metadata": {
    "colab": {
      "name": "Control Flow Statements.ipynb",
      "provenance": [],
      "authorship_tag": "ABX9TyPBcCEO5HG1cWPZF4ZYkr9G",
      "include_colab_link": true
    },
    "kernelspec": {
      "name": "python3",
      "display_name": "Python 3"
    },
    "language_info": {
      "name": "python"
    }
  },
  "cells": [
    {
      "cell_type": "markdown",
      "metadata": {
        "id": "view-in-github",
        "colab_type": "text"
      },
      "source": [
        "<a href=\"https://colab.research.google.com/github/Ngocnguyen11906/DATA-SCIENCE-212/blob/main/Control_Flow_Statements.ipynb\" target=\"_parent\"><img src=\"https://colab.research.google.com/assets/colab-badge.svg\" alt=\"Open In Colab\"/></a>"
      ]
    },
    {
      "cell_type": "code",
      "execution_count": 11,
      "metadata": {
        "colab": {
          "base_uri": "https://localhost:8080/"
        },
        "id": "pmhLdRXCA6Gm",
        "outputId": "e4588fde-823c-4ed0-f63b-9fea256d0abf"
      },
      "outputs": [
        {
          "output_type": "stream",
          "name": "stdout",
          "text": [
            "x < y\n"
          ]
        },
        {
          "output_type": "execute_result",
          "data": {
            "text/plain": [
              "False"
            ]
          },
          "metadata": {},
          "execution_count": 11
        }
      ],
      "source": [
        "var1 = 1\n",
        "# Checking a condition if the variable value is more than 1\n",
        "if var1 > 1:\n",
        "  print( \"Bigger than 1\" )\n",
        "x = 10\n",
        "y=12\n",
        "# if x is greater than y\n",
        "if x > y:\n",
        "  print (\"x > y\")\n",
        "# if x is lesser than y\n",
        "elif x < y:\n",
        "  print (\"x < y\")\n",
        "else:\n",
        "  print (\"x = y\")\n",
        "  # Initialize\n",
        "x = 5\n",
        "# Assign True if x is more than 10 or assign False using ternary operator\n",
        "isGreater = True if x > 10 else False\n",
        "isGreater\n"
      ]
    }
  ]
}