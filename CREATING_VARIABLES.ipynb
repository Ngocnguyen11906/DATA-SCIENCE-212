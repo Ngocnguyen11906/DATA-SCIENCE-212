{
  "nbformat": 4,
  "nbformat_minor": 0,
  "metadata": {
    "colab": {
      "name": "CREATING VARIABLES",
      "provenance": [],
      "authorship_tag": "ABX9TyP46h8Ay7zfanEajNZ1c1Ze",
      "include_colab_link": true
    },
    "kernelspec": {
      "name": "python3",
      "display_name": "Python 3"
    },
    "language_info": {
      "name": "python"
    }
  },
  "cells": [
    {
      "cell_type": "markdown",
      "metadata": {
        "id": "view-in-github",
        "colab_type": "text"
      },
      "source": [
        "<a href=\"https://colab.research.google.com/github/Ngocnguyen11906/DATA-SCIENCE-212/blob/main/CREATING_VARIABLES.ipynb\" target=\"_parent\"><img src=\"https://colab.research.google.com/assets/colab-badge.svg\" alt=\"Open In Colab\"/></a>"
      ]
    },
    {
      "cell_type": "code",
      "execution_count": null,
      "metadata": {
        "colab": {
          "base_uri": "https://localhost:8080/"
        },
        "id": "X5-444wU9tnC",
        "outputId": "d4d1ad55-c779-4fe5-de88-49972e288fe4"
      },
      "outputs": [
        {
          "output_type": "stream",
          "name": "stdout",
          "text": [
            "Value of var1: 2 <class 'int'>\n",
            "Value of var2: 5.0 <class 'float'>\n",
            "Value of var3: False <class 'bool'>\n",
            "Value of var4: Data Science for Business <class 'str'>\n"
          ]
        }
      ],
      "source": [
        "var1 = 2\n",
        "var2 = 5.0\n",
        "var3 = 1 > 2\n",
        "var4 = \"Data Science for Business\"\n",
        "print(\"Value of var1:\", var1, type(var1))\n",
        "print(\"Value of var2:\", var2, type(var2))\n",
        "print(\"Value of var3:\", var3, type(var3))\n",
        "print(\"Value of var4:\", var4, type(var4))"
      ]
    }
  ]
}