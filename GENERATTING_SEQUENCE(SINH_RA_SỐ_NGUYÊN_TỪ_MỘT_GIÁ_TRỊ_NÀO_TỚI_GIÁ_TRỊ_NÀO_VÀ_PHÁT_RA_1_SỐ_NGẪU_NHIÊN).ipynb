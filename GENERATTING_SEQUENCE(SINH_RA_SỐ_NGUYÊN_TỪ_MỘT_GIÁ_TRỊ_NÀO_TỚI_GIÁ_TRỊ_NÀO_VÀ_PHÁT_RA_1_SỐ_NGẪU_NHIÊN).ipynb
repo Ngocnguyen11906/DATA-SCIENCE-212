{
  "nbformat": 4,
  "nbformat_minor": 0,
  "metadata": {
    "colab": {
      "name": "GENERATTING SEQUENCE(SINH RA SỐ NGUYÊN TỪ MỘT GIÁ TRỊ NÀO TỚI GIÁ TRỊ NÀO VÀ PHÁT RA 1 SỐ NGẪU NHIÊN).ipynb",
      "provenance": [],
      "authorship_tag": "ABX9TyNaJ16eG+7JsnWzkHJLLKvV",
      "include_colab_link": true
    },
    "kernelspec": {
      "name": "python3",
      "display_name": "Python 3"
    },
    "language_info": {
      "name": "python"
    }
  },
  "cells": [
    {
      "cell_type": "markdown",
      "metadata": {
        "id": "view-in-github",
        "colab_type": "text"
      },
      "source": [
        "<a href=\"https://colab.research.google.com/github/Ngocnguyen11906/DATA-SCIENCE-212/blob/main/GENERATTING_SEQUENCE(SINH_RA_S%E1%BB%90_NGUY%C3%8AN_T%E1%BB%AA_M%E1%BB%98T_GI%C3%81_TR%E1%BB%8A_N%C3%80O_T%E1%BB%9AI_GI%C3%81_TR%E1%BB%8A_N%C3%80O_V%C3%80_PH%C3%81T_RA_1_S%E1%BB%90_NG%E1%BA%AAU_NHI%C3%8AN).ipynb\" target=\"_parent\"><img src=\"https://colab.research.google.com/assets/colab-badge.svg\" alt=\"Open In Colab\"/></a>"
      ]
    },
    {
      "cell_type": "code",
      "execution_count": 6,
      "metadata": {
        "colab": {
          "base_uri": "https://localhost:8080/"
        },
        "id": "KIA2Mivg_joz",
        "outputId": "d52aa3e7-e053-4a86-8e5e-15128c451c91"
      },
      "outputs": [
        {
          "output_type": "execute_result",
          "data": {
            "text/plain": [
              "list"
            ]
          },
          "metadata": {},
          "execution_count": 6
        }
      ],
      "source": [
        "# Initializing the sequence of numbers starting from 1 and ending (not including) with 6\n",
        "numbers = range(1, 6)\n",
        "numbers\n",
        "type(numbers)\n",
        "import random\n",
        "# from random import sample\n",
        "# https://docs.python.org/3/library/random.html\n",
        "randomList = random.sample(range(0, 100), 20)\n",
        "randomList\n",
        "type(randomList)"
      ]
    }
  ]
}